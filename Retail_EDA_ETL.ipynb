{
 "cells": [
  {
   "cell_type": "code",
   "execution_count": 10,
   "id": "81bb7f43-5884-48a9-ae2d-04534122b771",
   "metadata": {},
   "outputs": [],
   "source": [
    "import pandas as pd\n",
    "import numpy as np\n",
    "import matplotlib.pyplot as plt\n",
    "import zipfile"
   ]
  },
  {
   "cell_type": "code",
   "execution_count": 11,
   "id": "d5de6d69-578b-4059-94bd-3276299e5a68",
   "metadata": {},
   "outputs": [
    {
     "name": "stdout",
     "output_type": "stream",
     "text": [
      "mkdir: /Users/kabiraggarwal/.kaggle: File exists\n"
     ]
    }
   ],
   "source": [
    "!mkdir ~/.kaggle"
   ]
  },
  {
   "cell_type": "code",
   "execution_count": 12,
   "id": "822b3087-54ba-4d07-b399-3867730f903b",
   "metadata": {},
   "outputs": [],
   "source": [
    "!cp /Users/kabiraggarwal/downloads/kaggle.json /Users/kabiraggarwal/.kaggle/kaggle.json"
   ]
  },
  {
   "cell_type": "code",
   "execution_count": 13,
   "id": "7da2b2f2-2f9d-43ad-b13d-921882ceb6da",
   "metadata": {},
   "outputs": [
    {
     "name": "stdout",
     "output_type": "stream",
     "text": [
      "kaggle.json\n"
     ]
    }
   ],
   "source": [
    "! cd /Users/kabiraggarwal/.kaggle && ls"
   ]
  },
  {
   "cell_type": "code",
   "execution_count": null,
   "id": "c4c04f2b-3733-4600-903b-ec0e82c27f4a",
   "metadata": {},
   "outputs": [],
   "source": []
  }
 ],
 "metadata": {
  "kernelspec": {
   "display_name": "Python 3 (ipykernel)",
   "language": "python",
   "name": "python3"
  },
  "language_info": {
   "codemirror_mode": {
    "name": "ipython",
    "version": 3
   },
   "file_extension": ".py",
   "mimetype": "text/x-python",
   "name": "python",
   "nbconvert_exporter": "python",
   "pygments_lexer": "ipython3",
   "version": "3.11.9"
  }
 },
 "nbformat": 4,
 "nbformat_minor": 5
}
